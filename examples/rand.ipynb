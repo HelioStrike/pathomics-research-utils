{
 "cells": [
  {
   "cell_type": "code",
   "execution_count": 19,
   "metadata": {},
   "outputs": [],
   "source": [
    "import os\n",
    "import cv2\n",
    "from pathomics_research_utils import utils"
   ]
  },
  {
   "cell_type": "code",
   "execution_count": 20,
   "metadata": {},
   "outputs": [],
   "source": [
    "lymphoma_dir = '/home/krypt/myStuff/projects/cancer-research/data/lymphoma'\n",
    "lymphoma_to_dir = lymphoma_dir + '_2'"
   ]
  },
  {
   "cell_type": "code",
   "execution_count": 21,
   "metadata": {},
   "outputs": [],
   "source": [
    "if not os.path.exists(lymphoma_to_dir):\n",
    "    os.mkdir(lymphoma_to_dir)"
   ]
  },
  {
   "cell_type": "code",
   "execution_count": 22,
   "metadata": {},
   "outputs": [],
   "source": [
    "classes = os.listdir(lymphoma_dir)\n",
    "for cn in classes:\n",
    "    if not os.path.exists(os.path.join(lymphoma_to_dir, cn)):\n",
    "        os.mkdir(os.path.join(lymphoma_to_dir, cn))"
   ]
  },
  {
   "cell_type": "code",
   "execution_count": 23,
   "metadata": {},
   "outputs": [],
   "source": [
    "#generate 32x32 patches\n",
    "for cn in classes:\n",
    "    cur = 0\n",
    "    for fname in os.listdir(os.path.join(lymphoma_dir, cn)):\n",
    "        try:\n",
    "            patches = utils.get_image_subpatches(utils.read_image(os.path.join(os.path.join(lymphoma_dir,cn), fname)))\n",
    "            for patch in patches:\n",
    "                cv2.imwrite(os.path.join(os.path.join(lymphoma_to_dir,cn), str(cur)+\".tif\"), patch)\n",
    "                cur += 1\n",
    "        except:\n",
    "            pass"
   ]
  },
  {
   "cell_type": "code",
   "execution_count": null,
   "metadata": {},
   "outputs": [],
   "source": []
  }
 ],
 "metadata": {
  "kernelspec": {
   "display_name": "Python 3",
   "language": "python",
   "name": "python3"
  },
  "language_info": {
   "codemirror_mode": {
    "name": "ipython",
    "version": 3
   },
   "file_extension": ".py",
   "mimetype": "text/x-python",
   "name": "python",
   "nbconvert_exporter": "python",
   "pygments_lexer": "ipython3",
   "version": "3.7.5"
  }
 },
 "nbformat": 4,
 "nbformat_minor": 2
}
