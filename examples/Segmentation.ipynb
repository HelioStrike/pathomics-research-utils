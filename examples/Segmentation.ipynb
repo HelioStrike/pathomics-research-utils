{
 "cells": [
  {
   "cell_type": "code",
   "execution_count": 1,
   "metadata": {},
   "outputs": [],
   "source": [
    "from pathomics_research_utils.data_generators import SubPatchingSegmentationDataGenerator\n",
    "from pathomics_research_utils.models import AlexNetSegmentation\n",
    "from pathomics_research_utils import utils\n",
    "import numpy as np\n",
    "import os\n",
    "import matplotlib.pyplot as plt"
   ]
  },
  {
   "cell_type": "code",
   "execution_count": 2,
   "metadata": {},
   "outputs": [],
   "source": [
    "#Hyperparams\n",
    "lr = 1e-4\n",
    "n_epochs = 5"
   ]
  },
  {
   "cell_type": "code",
   "execution_count": 3,
   "metadata": {},
   "outputs": [],
   "source": [
    "orgs_path = '/home/krypt/myStuff/projects/cancer-research/data/epi'\n",
    "masks_path = '/home/krypt/myStuff/projects/cancer-research/data/epi/masks'"
   ]
  },
  {
   "cell_type": "code",
   "execution_count": 4,
   "metadata": {},
   "outputs": [],
   "source": [
    "org_images = os.listdir(orgs_path)\n",
    "mask_images = os.listdir(masks_path)"
   ]
  },
  {
   "cell_type": "code",
   "execution_count": 5,
   "metadata": {},
   "outputs": [],
   "source": [
    "org_image_names = list(map(lambda name: name[:-4], org_images))\n",
    "mask_image_names = list(map(lambda name: name[:-9], mask_images))"
   ]
  },
  {
   "cell_type": "code",
   "execution_count": 6,
   "metadata": {},
   "outputs": [],
   "source": [
    "train_names = list(set(org_image_names)&set(mask_image_names))\n",
    "test_names = list((set(org_image_names)|set(mask_image_names)).difference(train_names))\n",
    "test_names.remove('m')"
   ]
  },
  {
   "cell_type": "code",
   "execution_count": 7,
   "metadata": {},
   "outputs": [],
   "source": [
    "train_img_names = []\n",
    "test_img_names = []"
   ]
  },
  {
   "cell_type": "code",
   "execution_count": 8,
   "metadata": {},
   "outputs": [],
   "source": [
    "paired_train_img_names = [[os.path.join(orgs_path,f+\".tif\"), os.path.join(masks_path,f+\"_mask.png\")] for f in train_names]"
   ]
  },
  {
   "cell_type": "code",
   "execution_count": 9,
   "metadata": {},
   "outputs": [],
   "source": [
    "data_generator = SubPatchingSegmentationDataGenerator(paired_images_list=paired_train_img_names)"
   ]
  },
  {
   "cell_type": "code",
   "execution_count": 10,
   "metadata": {},
   "outputs": [],
   "source": [
    "model = AlexNetSegmentation(input_shape=(32,32,3), output_channels=1)"
   ]
  },
  {
   "cell_type": "code",
   "execution_count": 11,
   "metadata": {},
   "outputs": [],
   "source": [
    "model.compile(optimizer='adam', learning_rate=lr, loss='mse', metrics=['accuracy'])"
   ]
  },
  {
   "cell_type": "code",
   "execution_count": null,
   "metadata": {
    "scrolled": true
   },
   "outputs": [
    {
     "name": "stdout",
     "output_type": "stream",
     "text": [
      "Epoch 1/5\n",
      " 272/1180 [=====>........................] - ETA: 57s - loss: 11913.8277 - accuracy: 0.0847"
     ]
    }
   ],
   "source": [
    "model.fit_generator(\n",
    "    data_generator,\n",
    "    epochs=n_epochs\n",
    ")"
   ]
  },
  {
   "cell_type": "code",
   "execution_count": null,
   "metadata": {},
   "outputs": [],
   "source": [
    "patches = utils.get_image_subpatches(utils.read_image('/home/krypt/myStuff/projects/cancer-research/data2/epi/10260_00022.tif'))\n",
    "preds = model.predict(patches.astype(np.float64))"
   ]
  },
  {
   "cell_type": "code",
   "execution_count": null,
   "metadata": {},
   "outputs": [],
   "source": [
    "#patches_flat = patches.reshape((patches.shape[0]*patches.shape[1],*patches.shape[2:4]))\n",
    "utils.displayImagesSideBySide([preds[0].reshape(32,32), preds[1].reshape(32,32), preds[2].reshape(32,32)])"
   ]
  },
  {
   "cell_type": "code",
   "execution_count": null,
   "metadata": {},
   "outputs": [],
   "source": []
  },
  {
   "cell_type": "code",
   "execution_count": null,
   "metadata": {},
   "outputs": [],
   "source": []
  }
 ],
 "metadata": {
  "kernelspec": {
   "display_name": "Python 3",
   "language": "python",
   "name": "python3"
  },
  "language_info": {
   "codemirror_mode": {
    "name": "ipython",
    "version": 3
   },
   "file_extension": ".py",
   "mimetype": "text/x-python",
   "name": "python",
   "nbconvert_exporter": "python",
   "pygments_lexer": "ipython3",
   "version": "3.7.5"
  }
 },
 "nbformat": 4,
 "nbformat_minor": 2
}
