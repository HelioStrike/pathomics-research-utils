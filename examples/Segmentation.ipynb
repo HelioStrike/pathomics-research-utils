{
 "cells": [
  {
   "cell_type": "code",
   "execution_count": 1,
   "metadata": {},
   "outputs": [],
   "source": [
    "from pathomics_research_utils.data_generators import SubPatchingSegmentationDataGenerator\n",
    "\n",
    "import os"
   ]
  },
  {
   "cell_type": "code",
   "execution_count": 2,
   "metadata": {},
   "outputs": [],
   "source": [
    "orgs_path = '/home/krypt/myStuff/projects/cancer-research/data/epi'\n",
    "masks_path = '/home/krypt/myStuff/projects/cancer-research/data/epi/masks'"
   ]
  },
  {
   "cell_type": "code",
   "execution_count": 3,
   "metadata": {},
   "outputs": [],
   "source": [
    "org_images = os.listdir(orgs_path)\n",
    "mask_images = os.listdir(masks_path)"
   ]
  },
  {
   "cell_type": "code",
   "execution_count": 4,
   "metadata": {},
   "outputs": [],
   "source": [
    "org_image_names = list(map(lambda name: name[:-4], org_images))\n",
    "mask_image_names = list(map(lambda name: name[:-9], mask_images))"
   ]
  },
  {
   "cell_type": "code",
   "execution_count": 5,
   "metadata": {},
   "outputs": [],
   "source": [
    "train_names = list(set(org_image_names)&set(mask_image_names))\n",
    "test_names = list((set(org_image_names)|set(mask_image_names)).difference(train_names))\n",
    "test_names.remove('m')"
   ]
  },
  {
   "cell_type": "code",
   "execution_count": 6,
   "metadata": {},
   "outputs": [],
   "source": [
    "train_img_names = []\n",
    "test_img_names = []"
   ]
  },
  {
   "cell_type": "code",
   "execution_count": 7,
   "metadata": {},
   "outputs": [],
   "source": [
    "paired_train_img_names = [[os.path.join(orgs_path,f+\".tif\"), os.path.join(masks_path,f+\"_mask.tif\")] for f in org_image_names]"
   ]
  },
  {
   "cell_type": "code",
   "execution_count": 8,
   "metadata": {},
   "outputs": [
    {
     "data": {
      "text/plain": [
       "<pathomics_research_utils.data_generators.subpatching_data_generator.SubPatchingSegmentationDataGenerator at 0x7f99b98433d0>"
      ]
     },
     "execution_count": 8,
     "metadata": {},
     "output_type": "execute_result"
    }
   ],
   "source": [
    "SubPatchingSegmentationDataGenerator(paired_images_list=paired_train_img_names)"
   ]
  },
  {
   "cell_type": "code",
   "execution_count": null,
   "metadata": {},
   "outputs": [],
   "source": []
  }
 ],
 "metadata": {
  "kernelspec": {
   "display_name": "Python 3",
   "language": "python",
   "name": "python3"
  },
  "language_info": {
   "codemirror_mode": {
    "name": "ipython",
    "version": 3
   },
   "file_extension": ".py",
   "mimetype": "text/x-python",
   "name": "python",
   "nbconvert_exporter": "python",
   "pygments_lexer": "ipython3",
   "version": "3.7.5"
  }
 },
 "nbformat": 4,
 "nbformat_minor": 2
}
